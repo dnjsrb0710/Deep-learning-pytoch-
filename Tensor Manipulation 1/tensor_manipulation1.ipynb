{
  "nbformat": 4,
  "nbformat_minor": 0,
  "metadata": {
    "colab": {
      "name": "tensor_manipulation1.ipynb",
      "provenance": [],
      "collapsed_sections": []
    },
    "kernelspec": {
      "name": "python3",
      "display_name": "Python 3"
    },
    "language_info": {
      "name": "python"
    }
  },
  "cells": [
    {
      "cell_type": "code",
      "metadata": {
        "colab": {
          "base_uri": "https://localhost:8080/"
        },
        "id": "eFOIVMn9kyWu",
        "outputId": "bc652e15-9187-47d1-b191-26bac7de8a95"
      },
      "source": [
        "import torch\n",
        "\n",
        "# 1차원 행렬\n",
        "t = torch.FloatTensor([0., 1., 2., 3., 4., 5.])\n",
        "print(t)\n",
        "\n",
        "print(t.dim())  \n",
        "print(t.shape)  \n",
        "print(t.size()) \n",
        "\n",
        "print(t[0],t[1],t[-1])\n",
        "print(t[4:-1],t[3:])"
      ],
      "execution_count": 5,
      "outputs": [
        {
          "output_type": "stream",
          "text": [
            "tensor([0., 1., 2., 3., 4., 5.])\n",
            "1\n",
            "torch.Size([6])\n",
            "torch.Size([6])\n",
            "tensor(0.) tensor(1.) tensor(5.)\n",
            "tensor([4.]) tensor([3., 4., 5.])\n"
          ],
          "name": "stdout"
        }
      ]
    },
    {
      "cell_type": "code",
      "metadata": {
        "colab": {
          "base_uri": "https://localhost:8080/"
        },
        "id": "fr1FqXBgmNvX",
        "outputId": "a16b6b2d-2980-46e1-a259-2a3c94e10da4"
      },
      "source": [
        "# 2차원 행렬\n",
        "\n",
        "t=torch.FloatTensor([[1,2,3],\n",
        "                    [4,5,6,],\n",
        "                    [7,8,9],\n",
        "                    [10,11,12]]\n",
        "                    )\n",
        "print(t)\n",
        "\n",
        "print(t.dim())\n",
        "print(t.size())\n",
        "print(t.shape)\n",
        "print()\n",
        "print(t[:,1])\n",
        "print(t[:,1].size())\n",
        "print()\n",
        "print(t[:,:-1]) # 첫번째 차원을 전체 선택한 상황에서 두번째 차원에서는 맨 마지막에서 첫번째를 제외하고 다 가져온다."
      ],
      "execution_count": 14,
      "outputs": [
        {
          "output_type": "stream",
          "text": [
            "tensor([[ 1.,  2.,  3.],\n",
            "        [ 4.,  5.,  6.],\n",
            "        [ 7.,  8.,  9.],\n",
            "        [10., 11., 12.]])\n",
            "2\n",
            "torch.Size([4, 3])\n",
            "torch.Size([4, 3])\n",
            "\n",
            "tensor([ 2.,  5.,  8., 11.])\n",
            "torch.Size([4])\n",
            "\n",
            "tensor([[ 1.,  2.],\n",
            "        [ 4.,  5.],\n",
            "        [ 7.,  8.],\n",
            "        [10., 11.]])\n"
          ],
          "name": "stdout"
        }
      ]
    },
    {
      "cell_type": "code",
      "metadata": {
        "colab": {
          "base_uri": "https://localhost:8080/"
        },
        "id": "CybEk9GcrLqL",
        "outputId": "d97e06fb-e93d-4300-eb60-81f1bed41634"
      },
      "source": [
        "#브로드 캐스팅팅\n",
        "m1 = torch.FloatTensor([[1, 2]])\n",
        "m2 = torch.FloatTensor([3]) # [3] -> [3, 3]\n",
        "print(m1 + m2)\n",
        "print()\n",
        "m1 = torch.FloatTensor([[1, 2]])\n",
        "m2 = torch.FloatTensor([[3], [4]])\n",
        "print(m1 + m2)"
      ],
      "execution_count": 16,
      "outputs": [
        {
          "output_type": "stream",
          "text": [
            "tensor([[4., 5.]])\n",
            "\n",
            "tensor([[4., 5.],\n",
            "        [5., 6.]])\n"
          ],
          "name": "stdout"
        }
      ]
    },
    {
      "cell_type": "code",
      "metadata": {
        "colab": {
          "base_uri": "https://localhost:8080/"
        },
        "id": "Eo-PwZJUtSWT",
        "outputId": "cef8ccb5-2d76-4ecc-e690-9112289bcd31"
      },
      "source": [
        "#자주 사용되는 기능들\n",
        "\n",
        "#matmul,mul\n",
        "m1=torch.FloatTensor([[1,2],[3,4]])\n",
        "m2=torch.FloatTensor([[1],[2]])\n",
        "\n",
        "print(\"*matmul 결과* \")\n",
        "print(m1.matmul(m2))\n",
        "print(\"\\n*mul 결과*\")\n",
        "print(m1*m2)\n",
        "print(m1.mul(m2))\n",
        "\n",
        "#mean(평균)\n",
        "t = torch.FloatTensor([[1, 2], [3, 4]])\n",
        "print(t.mean())\n",
        "print(t.mean(dim=0))\n",
        "\n",
        "\n",
        "#sum(덧셈)\n",
        "t = torch.FloatTensor([[1, 2], [3, 4]])\n",
        "print(t.sum()) # 단순히 원소 전체의 덧셈을 수행\n",
        "print(t.sum(dim=0)) # 행을 제거\n",
        "print(t.sum(dim=1)) # 열을 제거\n",
        "print(t.sum(dim=-1)) # 열을 제거\n",
        "\n",
        "#max,argmax\n",
        "t = torch.FloatTensor([[1, 2], [3, 4]])\n",
        "print(t.max())\n",
        "print()\n",
        "print(t.max(dim=0)) "
      ],
      "execution_count": 26,
      "outputs": [
        {
          "output_type": "stream",
          "text": [
            "*matmul 결과* \n",
            "tensor([[ 5.],\n",
            "        [11.]])\n",
            "\n",
            "*mul 결과*\n",
            "tensor([[1., 2.],\n",
            "        [6., 8.]])\n",
            "tensor([[1., 2.],\n",
            "        [6., 8.]])\n",
            "tensor(2.5000)\n",
            "tensor([2., 3.])\n",
            "tensor(10.)\n",
            "tensor([4., 6.])\n",
            "tensor([3., 7.])\n",
            "tensor([3., 7.])\n",
            "tensor(4.)\n",
            "\n",
            "torch.return_types.max(\n",
            "values=tensor([3., 4.]),\n",
            "indices=tensor([1, 1]))\n"
          ],
          "name": "stdout"
        }
      ]
    }
  ]
}